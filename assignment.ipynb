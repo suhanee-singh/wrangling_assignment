{
 "cells": [
  {
   "cell_type": "markdown",
   "id": "da879ea7-8aac-48a3-b6c2-daea56d2e072",
   "metadata": {
    "id": "da879ea7-8aac-48a3-b6c2-daea56d2e072"
   },
   "source": [
    "**Q1.** This question provides some practice cleaning variables which have common problems.\n",
    "1. Numeric variable: For `./data/airbnb_hw.csv`, clean the `Price` variable as well as you can, and explain the choices you make. How many missing values do you end up with? (Hint: What happens to the formatting when a price goes over 999 dollars, say from 675 to 1,112?)\n",
    "\n",
    "2. Categorical variable: For the Minnesota police use of for data, `./data/mn_police_use_of_force.csv`, clean the `subject_injury` variable, handling the NA's; this gives a value `Yes` when a person was injured by police, and `No` when no injury occurred. What proportion of the values are missing? Is this a concern? Cross-tabulate your cleaned `subject_injury` variable with the `force_type` variable. Are there any patterns regarding when the data are missing? \n",
    "3. Dummy variable: For the pretrial data covered in the lecture `./data/justice_data.parquet`, clean the `WhetherDefendantWasReleasedPretrial` variable as well as you can, and, in particular, replace missing values with `np.nan`.\n",
    "4. Missing values, not at random: For the pretrial data covered in the lecture, clean the `ImposedSentenceAllChargeInContactEvent` variable as well as you can, and explain the choices you make. (Hint: Look at the `SentenceTypeAllChargesAtConvictionInContactEvent` variable.)"
   ]
  },
  {
   "cell_type": "markdown",
   "id": "dd49cd28",
   "metadata": {},
   "source": [
    "Q1.1\n",
    "I cleaned the Price column by removing dollar signs and commas, then coerced values to numeric. This was able to convert the column from object to float64. After there were 0 missing values."
   ]
  },
  {
   "cell_type": "code",
   "execution_count": 106,
   "id": "9d412a8d",
   "metadata": {},
   "outputs": [
    {
     "name": "stdout",
     "output_type": "stream",
     "text": [
      "shape: (30478, 13) \n",
      "\n",
      "columns: ['Host Id', 'Host Since', 'Name', 'Neighbourhood ', 'Property Type', 'Review Scores Rating (bin)', 'Room Type', 'Zipcode', 'Beds', 'Number of Records', 'Number Of Reviews', 'Price', 'Review Scores Rating']\n",
      "dtype of Price: object\n",
      "Missing values: 0\n"
     ]
    }
   ],
   "source": [
    "import re, numpy as np, pandas as pd\n",
    "import matplotlib.pyplot as plt\n",
    "\n",
    "PATH_AIRBNB = \"./data/airbnb_hw.csv\"\n",
    "air = pd.read_csv(PATH_AIRBNB)\n",
    "print(\"shape:\", air.shape, \"\\n\")        # rows & cols\n",
    "print(\"columns:\", air.columns.tolist()) # names\n",
    "print(\"dtype of Price:\", air[\"Price\"].dtype)\n",
    "\n",
    "#remove formatting chars\n",
    "air[\"Price\"] = air[\"Price\"].str.replace(\"$\",\"\",regex=False)\n",
    "air[\"Price\"] = air[\"Price\"].str.replace(\",\",\"\",regex=False)\n",
    "\n",
    "air[\"Price\"] = pd.to_numeric(air[\"Price\"], errors=\"coerce\") #convert \n",
    "\n",
    "# Check the cleaned Price column\n",
    "print(\"Missing values:\", air[\"Price\"].isna().sum())\n"
   ]
  },
  {
   "cell_type": "markdown",
   "id": "aff2fe12",
   "metadata": {},
   "source": [
    "Q1.2\n",
    " A missing proportion of around 0.76 is high and suggests data may be incomplete or inconsistently collected which does raise a concern. Certain force types such as chemical irritants and maximal restraint techniques show a high proportion of unknown injury status, suggesting potential inconsistencies in reporting across force types\n"
   ]
  },
  {
   "cell_type": "code",
   "execution_count": 118,
   "id": "cd22b775",
   "metadata": {},
   "outputs": [
    {
     "name": "stdout",
     "output_type": "stream",
     "text": [
      "Shape: (12925, 13)\n",
      "Unique values in subject_injury: [nan 'No' 'Yes']\n",
      "Proportion of missing values: 0.7619342359767892\n",
      "\n",
      "Cross-tabulation:\n",
      " force_type            Baton  Bodily Force  Chemical Irritant  Firearm  \\\n",
      "subject_injury_clean                                                    \n",
      "No                        0          1093                131        2   \n",
      "Unknown                   2          7051               1421        0   \n",
      "Yes                       2          1286                 41        0   \n",
      "\n",
      "force_type            Gun Point Display  Improvised Weapon  Less Lethal  \\\n",
      "subject_injury_clean                                                      \n",
      "No                                   33                 34            0   \n",
      "Unknown                              27                 74           87   \n",
      "Yes                                  44                 40            0   \n",
      "\n",
      "force_type            Less Lethal Projectile  Maximal Restraint Technique  \\\n",
      "subject_injury_clean                                                        \n",
      "No                                         1                            0   \n",
      "Unknown                                    0                          170   \n",
      "Yes                                        2                            0   \n",
      "\n",
      "force_type            Police K9 Bite  Taser  \n",
      "subject_injury_clean                         \n",
      "No                                 2    150  \n",
      "Unknown                           31    985  \n",
      "Yes                               44    172  \n"
     ]
    }
   ],
   "source": [
    "import pandas as pd\n",
    "\n",
    "# Load the data\n",
    "PATH_MN = \"./data/mn_police_use_of_force.csv\"\n",
    "mn = pd.read_csv(PATH_MN)\n",
    "print(\"Shape:\", mn.shape)\n",
    "print(\"Unique values in subject_injury:\", mn[\"subject_injury\"].unique())\n",
    "\n",
    "#Calculate missing value proportion\n",
    "total_nan = mn[\"subject_injury\"].isna().sum()\n",
    "total_count = len(mn)\n",
    "prop_missing = total_nan / total_count\n",
    "print(\"Proportion of missing values:\", prop_missing)\n",
    "\n",
    "mn[\"subject_injury_clean\"] = mn[\"subject_injury\"].fillna(\"Unknown\")\n",
    "\n",
    "#\n",
    "crosstab = pd.crosstab(mn[\"subject_injury_clean\"], mn[\"force_type\"])\n",
    "print(\"Cross-tabulation:\\n\", crosstab)\n",
    "\n"
   ]
  },
  {
   "cell_type": "markdown",
   "id": "eed0eef3",
   "metadata": {},
   "source": [
    "Q1.3"
   ]
  },
  {
   "cell_type": "code",
   "execution_count": 119,
   "id": "30c27c24",
   "metadata": {},
   "outputs": [
    {
     "name": "stdout",
     "output_type": "stream",
     "text": [
      "shape: (22986, 709)\n",
      "Unique values: [9 0 1]\n",
      "Value counts before cleaning:\n",
      " WhetherDefendantWasReleasedPretrial\n",
      "1    19154\n",
      "0     3801\n",
      "9       31\n",
      "Name: count, dtype: int64\n",
      "\n",
      "Unique values after cleaning: [nan  0.  1.]\n",
      "released_clean\n",
      "1.0    19154\n",
      "0.0     3801\n",
      "NaN       31\n",
      "Name: count, dtype: int64\n",
      "Missing values: 31\n"
     ]
    }
   ],
   "source": [
    "# load parquet\n",
    "df = pd.read_parquet(\"./data/justice_data.parquet\")\n",
    "\n",
    "print(\"shape:\", df.shape)\n",
    "print(\"Unique values:\", df[\"WhetherDefendantWasReleasedPretrial\"].unique())\n",
    "\n",
    "print(\"Value counts before cleaning:\\n\", df[\"WhetherDefendantWasReleasedPretrial\"].value_counts(dropna=False))\n",
    "\n",
    "# Clean dummy variable\n",
    "df[\"released_clean\"] = df[\"WhetherDefendantWasReleasedPretrial\"].replace(9, np.nan)\n",
    "\n",
    "# Check counts\n",
    "print(\"\\nUnique values after cleaning:\", df[\"released_clean\"].unique())\n",
    "print(df[\"released_clean\"].value_counts(dropna=False))\n",
    "print(\"Missing values:\", df[\"released_clean\"].isna().sum())\n",
    "\n"
   ]
  },
  {
   "cell_type": "markdown",
   "id": "cbed9a31",
   "metadata": {},
   "source": [
    "Q1.4\n",
    "I checked the data type of ImposedSentenceAllChargeInContactEvent and saw it was an object, with some invalid entries like blank strings. I converted it to numeric using pd.to_numeric, which turned those into NaN.\n",
    "About 39% of the values were missing. I cross-tabulated the missing values with SentenceTypeAllChargesAtConvictionInContactEvent and found that all missing cases had sentence types that id 4 or 9 showing rhey were not random"
   ]
  },
  {
   "cell_type": "code",
   "execution_count": 126,
   "id": "570dfc2c",
   "metadata": {},
   "outputs": [
    {
     "name": "stdout",
     "output_type": "stream",
     "text": [
      "Data type: object\n",
      "0.3938484294788132\n",
      "SentenceTypeAllChargesAtConvictionInContactEvent     0     1    2     4    9\n",
      "sentence_missing                                                            \n",
      "False                                             8720  4299  914     0    0\n",
      "True                                                 0     0    0  8779  274\n"
     ]
    }
   ],
   "source": [
    "import pandas as pd\n",
    "import numpy as np\n",
    "\n",
    "PATH_PRETRIAL = \"./data/justice_data.parquet\"\n",
    "pretrial = pd.read_parquet(PATH_PRETRIAL)\n",
    "\n",
    "print(\"Data type:\", pretrial[\"ImposedSentenceAllChargeInContactEvent\"].dtype) \n",
    "\n",
    "# print(\"Unique values:\", pretrial[\"ImposedSentenceAllChargeInContactEvent\"].unique())\n",
    "\n",
    "pretrial[\"sentence\"] = pd.to_numeric(\n",
    "    pretrial[\"ImposedSentenceAllChargeInContactEvent\"], errors=\"coerce\")\n",
    "\n",
    "pretrial[\"sentence_missing\"] = pretrial[\"sentence\"].isnull()\n",
    "\n",
    "#missing amount \n",
    "missing_count = pretrial[\"sentence_missing\"].sum()\n",
    "total_count = len(pretrial)\n",
    "missing_prop = missing_count / total_count\n",
    "\n",
    "print(missing_prop)\n",
    "\n",
    "#Crossabulate\n",
    "crosstab = pd.crosstab(\n",
    "    pretrial[\"sentence_missing\"],\n",
    "    pretrial[\"SentenceTypeAllChargesAtConvictionInContactEvent\"]\n",
    ")\n",
    "\n",
    "print(crosstab)"
   ]
  },
  {
   "cell_type": "markdown",
   "id": "5a60a44e",
   "metadata": {},
   "source": [
    "**Q2.** Go to https://sharkattackfile.net/ and download their dataset on shark attacks (Hint: `GSAF5.xls`).\n",
    "\n",
    "1. Open the shark attack file using Pandas. It is probably not a csv file, so `read_csv` won't work.\n",
    "2. Drop any columns that do not contain data.\n",
    "3. Clean the year variable. Describe the range of values you see. Filter the rows to focus on attacks since 1940. Are attacks increasing, decreasing, or remaining constant over time?\n",
    "4. Clean the Age variable and make a histogram of the ages of the victims.\n",
    "5. What proportion of victims are male?\n",
    "6. Clean the `Type` variable so it only takes three values: Provoked and Unprovoked and Unknown. What proportion of attacks are unprovoked?\n",
    "7. Clean the `Fatal Y/N` variable so it only takes three values: Y, N, and Unknown.\n",
    "8. Are sharks more likely to launch unprovoked attacks on men or women? Is the attack more or less likely to be fatal when the attack is provoked or unprovoked? Is it more or less likely to be fatal when the victim is male or female? How do you feel about sharks?\n",
    "9. What proportion of attacks appear to be by white sharks? (Hint: `str.split()` makes a vector of text values into a list of lists, split by spaces.)"
   ]
  },
  {
   "cell_type": "markdown",
   "id": "5fae94fe",
   "metadata": {},
   "source": [
    "Q2.3\n",
    "i cleaned the Year variable by converting it to numeric and filtering out invalid entries. The range I then saw was from Year range: 0.0 to 2026.0. I then filtered the dataset to include only attacks from 1940 and saw that the number of attacks have increased."
   ]
  },
  {
   "cell_type": "code",
   "execution_count": 145,
   "id": "9e7f2214",
   "metadata": {},
   "outputs": [
    {
     "name": "stdout",
     "output_type": "stream",
     "text": [
      "(7042, 23)\n",
      "Index(['Date', 'Year', 'Type', 'Country', 'State', 'Location', 'Activity',\n",
      "       'Name', 'Sex', 'Age', 'Injury', 'Fatal Y/N', 'Time', 'Species ',\n",
      "       'Source', 'pdf', 'href formula', 'href', 'Case Number', 'Case Number.1',\n",
      "       'original order', 'Unnamed: 21', 'Unnamed: 22'],\n",
      "      dtype='object')\n",
      "\n",
      "Missing values per column:\n",
      "Date                 0\n",
      "Year                 2\n",
      "Type                18\n",
      "Country             50\n",
      "State              485\n",
      "Location           567\n",
      "Activity           585\n",
      "Name               219\n",
      "Sex                579\n",
      "Age               2994\n",
      "Injury              35\n",
      "Fatal Y/N          561\n",
      "Time              3526\n",
      "Species           3131\n",
      "Source              20\n",
      "pdf                243\n",
      "href formula       248\n",
      "href               246\n",
      "Case Number        244\n",
      "Case Number.1      245\n",
      "original order     243\n",
      "Unnamed: 21       7041\n",
      "Unnamed: 22       7040\n",
      "dtype: int64\n",
      "\n",
      "Shape after: (7042, 15)\n",
      "(7042, 15)\n",
      "Year range: 0.0 to 2026.0\n",
      "Year\n",
      "1940.0     24\n",
      "1941.0     27\n",
      "1942.0     41\n",
      "1943.0     28\n",
      "1944.0     31\n",
      "         ... \n",
      "2022.0     98\n",
      "2023.0    109\n",
      "2024.0     52\n",
      "2025.0     48\n",
      "2026.0      1\n",
      "Name: count, Length: 87, dtype: int64\n"
     ]
    }
   ],
   "source": [
    "import pandas as pd\n",
    "import numpy as np\n",
    "\n",
    "#1\n",
    "path_shark= \"./data/GSAF5.xls\"\n",
    "sharks = pd.read_excel(path_shark)\n",
    "\n",
    "print(sharks.shape)\n",
    "print(sharks.columns)\n",
    "\n",
    "# 2 calcuate missing values\n",
    "print(\"\\nMissing values per column:\")\n",
    "print(sharks.isna().sum()) \n",
    "\n",
    "#drop columns\n",
    "sharks = sharks.drop(columns=[ 'pdf', 'href formula', 'href', 'Case Number', 'Case Number.1',\n",
    "       'original order', 'Unnamed: 21', 'Unnamed: 22']) \n",
    "print(\"\\nShape after:\", sharks.shape)\n",
    "\n",
    "print(sharks.shape)\n",
    "\n",
    "\n",
    "#3\n",
    "sharks['Year'] = pd.to_numeric(sharks['Year'], errors='coerce') #convert\n",
    "print(\"Year range:\", sharks['Year'].min(), \"to\", sharks['Year'].max()) #range\n",
    "\n",
    "sharks_after1940 = sharks[sharks['Year'] >= 1940] #filter\n",
    "\n",
    "attacks_per_year = sharks_after1940['Year'].value_counts().sort_index()\n",
    "print(attacks_per_year)\n",
    "\n",
    "\n"
   ]
  },
  {
   "cell_type": "code",
   "execution_count": 136,
   "id": "3c708d4b",
   "metadata": {},
   "outputs": [
    {
     "name": "stdout",
     "output_type": "stream",
     "text": [
      "[nan 63.  9. 39. 19.  7. 85. 69. 18. 66. 21. 40. 37. 16. 20. 12. 42. 26.\n",
      " 14. 45. 30. 56. 29. 35. 58. 24. 55. 17. 36. 23. 28. 48. 57. 61. 27. 38.\n",
      " 68. 33. 15. 41. 43. 49. 25. 46. 65. 64. 13. 11. 32. 10. 62. 22. 52. 44.\n",
      " 47. 59.  8. 50. 34. 77. 60. 73. 67.  6. 53. 51. 31. 71. 54. 75. 70.  4.\n",
      " 74.  3. 82. 72.  5. 86. 84. 87.  1. 81. 78.]\n",
      "Missing values: 3139\n"
     ]
    },
    {
     "data": {
      "text/plain": [
       "<Axes: >"
      ]
     },
     "execution_count": 136,
     "metadata": {},
     "output_type": "execute_result"
    },
    {
     "data": {
      "image/png": "[encoded data removed]",
      "text/plain": [
       "<Figure size 640x480 with 1 Axes>"
      ]
     },
     "metadata": {},
     "output_type": "display_data"
    }
   ],
   "source": [
    "#4\n",
    "print(sharks['Age'].unique())\n",
    "# Clean the Age column\n",
    "\n",
    "sharks['Age'] = pd.to_numeric(sharks['Age'], errors='coerce')\n",
    "\n",
    "sharks['age_nan'] = sharks['Age'].isna()\n",
    "print(\"Missing values:\", sharks['age_nan'].sum())\n",
    "\n",
    "sharks['Age'].hist(bins=50)"
   ]
  },
  {
   "cell_type": "code",
   "execution_count": 131,
   "id": "85f6fd0c",
   "metadata": {},
   "outputs": [
    {
     "name": "stdout",
     "output_type": "stream",
     "text": [
      "Unique Sex values: ['M' 'F' 'F ' 'M ' nan ' M' 'm' 'lli' 'M x 2' 'N' '.']\n",
      "Unique Sex values: ['M' 'F' nan]\n",
      "0.8752128812509676\n"
     ]
    }
   ],
   "source": [
    "#5\n",
    "print(\"Unique Sex values:\", sharks['Sex'].unique())\n",
    "sharks['Sex_clean'] = sharks['Sex'].str.strip().str.upper()\n",
    "\n",
    "# Fixiing cases\n",
    "sharks['Sex_clean'] = sharks['Sex_clean'].replace({\n",
    "    'M X 2': 'M',   # treat as male \n",
    "    'N': np.nan,    #unclear\n",
    "    '.': np.nan,    # unclear\n",
    "    'LLI': np.nan   # unclear \n",
    "})\n",
    "\n",
    "print(\"Unique Sex values:\", sharks['Sex_clean'].unique())\n",
    "\n",
    "\n",
    "num_males = (sharks['Sex_clean'] == 'M').sum()\n",
    "num_females = (sharks['Sex_clean'] == 'F').sum()\n",
    "num_missing = sharks['Sex_clean'].isna().sum()\n",
    "\n",
    "\n",
    "total_valid = num_males + num_females\n",
    "\n",
    "prop_males = num_males / total_valid\n",
    "\n",
    "print(prop_males)\n",
    "\n",
    "\n"
   ]
  },
  {
   "cell_type": "code",
   "execution_count": 97,
   "id": "041815c5",
   "metadata": {},
   "outputs": [
    {
     "name": "stdout",
     "output_type": "stream",
     "text": [
      "\n",
      "Proportion unprovoked: 0.7380005680204488\n"
     ]
    }
   ],
   "source": [
    "#6\n",
    "\n",
    "# print(\"Unique Type values:\", sharks['Type'].unique())\n",
    "\n",
    "#strip \n",
    "sharks['Type_clean'] = sharks['Type'].str.strip().str.capitalize()\n",
    "# print(\"Cleaned Type values:\", sharks['Type_clean'].unique())\n",
    "\n",
    "#convert to unknown \n",
    "sharks['Type_clean'] = sharks['Type_clean'].replace({\n",
    "    'Provoked': 'Provoked',\n",
    "    'Unprovoked': 'Unprovoked',\n",
    "    'Questionable': 'Unknown',\n",
    "    'Watercraft': 'Unknown',\n",
    "    'Sea disaster': 'Unknown',\n",
    "    '?': 'Unknown',\n",
    "    'Unconfirmed': 'Unknown',\n",
    "    'Unverified': 'Unknown',\n",
    "    'Invalid': 'Unknown',\n",
    "    'Under investigation': 'Unknown',\n",
    "    'Boat': 'Unknown',\n",
    "    np.nan: 'Unknown'\n",
    "})\n",
    "\n",
    "\n",
    "#proportion \n",
    "num_unprovoked =(sharks['Type_clean']== 'Unprovoked').sum()\n",
    "total =len(sharks)\n",
    "prop_unprovoked =num_unprovoked / total\n",
    "\n",
    "print(\"\\nProportion unprovoked:\", prop_unprovoked)\n",
    "\n"
   ]
  },
  {
   "cell_type": "code",
   "execution_count": 132,
   "id": "291d188f",
   "metadata": {},
   "outputs": [
    {
     "name": "stdout",
     "output_type": "stream",
     "text": [
      "Unique Fatal values (after): ['N' 'Y' 'Unknown' nan]\n"
     ]
    }
   ],
   "source": [
    "#7\n",
    "# print(\"Unique Fatal values (before):\", sharks['Fatal Y/N'].unique())\n",
    "\n",
    "# Step 1: strip spaces + uppercase for consistency\n",
    "sharks['Fatal_clean'] = sharks['Fatal Y/N'].str.strip().str.upper()\n",
    "\n",
    "sharks['Fatal_clean'] = sharks['Fatal_clean'].replace({\n",
    "    'Y': 'Y',\n",
    "    'Y X 2': 'Y',    # double count but still fatal\n",
    "    'N': 'N',\n",
    "    'NQ': 'Unknown', # weird code\n",
    "    'UNKNOWN': 'Unknown',\n",
    "    'F': 'Unknown',  # not a valid category here\n",
    "    'M': 'Unknown',  # mis-coded\n",
    "    '2017': 'Unknown',\n",
    "    'NAN': 'Unknown'\n",
    "})\n",
    "\n",
    "print(\"Unique Fatal values (after):\", sharks['Fatal_clean'].unique())\n"
   ]
  },
  {
   "cell_type": "markdown",
   "id": "fc593248",
   "metadata": {},
   "source": [
    "2.8\n",
    "1. More likely to launch unprovoked attacks on men.\n",
    "2. Unprovoked attacks are much more likely to be fatal than provoked ones\n",
    "3. Shark attacks are more likely to be fatal when the victim is male.\n",
    "4. I love sharks!!!\n"
   ]
  },
  {
   "cell_type": "code",
   "execution_count": 94,
   "id": "b4c12124",
   "metadata": {},
   "outputs": [
    {
     "name": "stdout",
     "output_type": "stream",
     "text": [
      "Sex vs. Attack Type\n",
      "Type_clean  Provoked  Unknown  Unprovoked\n",
      "Sex_clean                                \n",
      "F                 31       92         683\n",
      "M                550      758        4345\n"
     ]
    }
   ],
   "source": [
    "ct_sex_type = pd.crosstab(sharks['Sex_clean'], sharks['Type_clean'])\n",
    "print(\"Sex vs. Attack Type\")\n",
    "print(ct_sex_type)\n",
    "\n",
    "#\n"
   ]
  },
  {
   "cell_type": "code",
   "execution_count": 95,
   "id": "988a2c3e",
   "metadata": {},
   "outputs": [
    {
     "name": "stdout",
     "output_type": "stream",
     "text": [
      "Fatal vs. Attack Type\n",
      "Type_clean   Provoked  Unknown  Unprovoked\n",
      "Fatal_clean                               \n",
      "N                 611      449        3857\n",
      "Unknown             4       14          62\n",
      "Y                  21      201        1261\n"
     ]
    }
   ],
   "source": [
    "ct_fatal_type = pd.crosstab(sharks['Fatal_clean'], sharks['Type_clean'])\n",
    "print(\"Fatal vs. Attack Type\")\n",
    "print(ct_fatal_type)"
   ]
  },
  {
   "cell_type": "code",
   "execution_count": 96,
   "id": "d33d6966",
   "metadata": {},
   "outputs": [
    {
     "name": "stdout",
     "output_type": "stream",
     "text": [
      "Fatal vs. Sex\n",
      "Sex_clean      F     M\n",
      "Fatal_clean           \n",
      "N            614  3941\n",
      "Unknown        5    44\n",
      "Y            122  1252\n"
     ]
    }
   ],
   "source": [
    "ct_fatal_sex = pd.crosstab(sharks['Fatal_clean'], sharks['Sex_clean'])\n",
    "print(\"Fatal vs. Sex\")\n",
    "print(ct_fatal_sex)"
   ]
  },
  {
   "cell_type": "code",
   "execution_count": 142,
   "id": "28de845b",
   "metadata": {},
   "outputs": [
    {
     "name": "stdout",
     "output_type": "stream",
     "text": [
      "Unique Species examples: ['Lemon shark 1.8 m (6ft)' '5m (16.5ft) Great White' 'Undetermined'\n",
      " 'Suspected Great White' 'Great White Shark est 3m (10ft)' 'Lemon shark'\n",
      " '5ft (1.5m) Bull shark' 'Unknown' 'Undetermined small shall shark'\n",
      " 'Undetermined ' '2m Bull shark?' 'Sand Tiger shark' 'Small shark'\n",
      " 'Not stated' 'Bull shark' 'Great White' 'Small shark 1m (3ft) long'\n",
      " 'Dusky sharks' 'Not Staed' '1.5m Tiger shark' 'Great White Shark'\n",
      " 'Not stated ' 'Mako shark' 'bull shark' '1.8m (6ft) bull shark'\n",
      " 'Bronze whaler' 'Described as a large terrifying animal'\n",
      " 'Reportedly Tiger or Bull shark' 'Great White Shart estimated 4.8m 16 ft'\n",
      " 'Reportedly a Tiger Shark']\n",
      "0.10678784436239705\n"
     ]
    }
   ],
   "source": [
    "print(\"Unique Species examples:\", sharks['Species '].dropna().unique()[:30])# Convert to lowercase text, fill missing with ''\n",
    "sharks['Species_clean'] = sharks['Species '].astype(str).str.lower()\n",
    "\n",
    "# Check if 'white' appears in the species description\n",
    "sharks['white_shark'] = sharks['Species_clean'].str.contains('white')\n",
    "\n",
    "# Proportion of attacks involving white sharks\n",
    "prop_white = sharks['white_shark'].mean()\n",
    "\n",
    "print(prop_white)\n",
    "\n"
   ]
  }
 ],
 "metadata": {
  "colab": {
   "provenance": []
  },
  "kernelspec": {
   "display_name": "Python 3 (ipykernel)",
   "language": "python",
   "name": "python3"
  },
  "language_info": {
   "codemirror_mode": {
    "name": "ipython",
    "version": 3
   },
   "file_extension": ".py",
   "mimetype": "text/x-python",
   "name": "python",
   "nbconvert_exporter": "python",
   "pygments_lexer": "ipython3",
   "version": "3.11.1"
  }
 },
 "nbformat": 4,
 "nbformat_minor": 5
}
